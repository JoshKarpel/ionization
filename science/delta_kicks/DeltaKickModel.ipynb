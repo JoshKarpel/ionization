{
 "cells": [
  {
   "cell_type": "markdown",
   "metadata": {},
   "source": [
    "The goal of this notebook is to explore the \"delta kick model\", which is a way of working with the IDE where we decompose a laser pulse into a series of delta-function kicks. This lets us look at how time delays between parts of the pulse directly couple to the kernel, causing intereference and therefore changing the resulting ionization probability.\n",
    "\n",
    "Most of the delta kick code was actually moved into the library a long time ago, so we'll just access it from there."
   ]
  },
  {
   "cell_type": "code",
   "execution_count": 1,
   "metadata": {
    "collapsed": true
   },
   "outputs": [],
   "source": [
    "import logging\n",
    "import os\n",
    "import functools\n",
    "import datetime\n",
    "\n",
    "import numpy as np\n",
    "\n",
    "import simulacra as si\n",
    "import simulacra.units as u\n",
    "\n",
    "import ionization as ion\n",
    "import ionization.ide.delta_kicks as dk\n",
    "\n",
    "LOGMAN = si.utils.LogManager('simulacra', 'ionization', stdout_level = logging.INFO)\n",
    "THIS_DIR = os.getcwd()\n",
    "OUT_DIR = os.path.join(THIS_DIR, 'out', 'DeltaKickModel')\n",
    "SIM_LIB = os.path.join(OUT_DIR, 'SIMLIB')\n",
    "\n",
    "PLOT_KWARGS = dict(\n",
    "    show = True,\n",
    "    save = True,\n",
    "    target_dir = OUT_DIR,\n",
    "    fig_dpi_scale = 1.5,\n",
    ")\n",
    "\n",
    "CHECKPOINT_KWARGS = dict(\n",
    "    checkpoints = True,\n",
    "    checkpoint_dir = SIM_LIB,\n",
    "    checkpoint_every = datetime.timedelta(minutes = 1),\n",
    ")\n",
    "\n",
    "%matplotlib inline"
   ]
  },
  {
   "cell_type": "markdown",
   "metadata": {},
   "source": [
    "The first thing we'll look at is a basic \"sine-like\" delta-kick. It's made of two kicks of opposite polarity. We'll center them around $t=0$ for convenience."
   ]
  },
  {
   "cell_type": "code",
   "execution_count": 2,
   "metadata": {},
   "outputs": [
    {
     "name": "stdout",
     "output_type": "stream",
     "text": [
      "DeltaKickSimulation(sine_kick) {finished}\n",
      "├─ UUID: e0b5fb17-fb95-4254-b198-c7b26e1298b9\n",
      "├─ Status: finished\n",
      "│  ├─ Initialization Time: 2018-03-02 03:36:02.803930\n",
      "│  ├─ Latest Run Time: 2018-03-02 03:36:02.804431\n",
      "│  ├─ End Time: 2018-03-02 03:36:04.277261\n",
      "│  ├─ Running Time: 0:00:01.472830\n",
      "│  └─ Elapsed Time: 0:00:01.473331\n",
      "├─ DeltaKickSpecification(sine_kick)\n",
      "│  ├─ UUID: 35fc600f-ce2c-458b-8d97-2bd4a33464d3\n",
      "│  ├─ Time Evolution\n",
      "│  │  ├─ Initial Time: -200.0 as\n",
      "│  │  └─ Final Time: 200.0 as\n",
      "│  ├─ Evolution Algorithm\n",
      "│  │  └─ Evolution Gauge: LEN\n",
      "│  └─ IDE Parameters\n",
      "│     ├─ Initial State: a = 1\n",
      "│     ├─ Prefactor: -2.3081736167869146e+30\n",
      "│     ├─ LengthGaugeHydrogenKernel\n",
      "│     │  └─ Bound State Energy: -13.606 eV | -0.5 hartree\n",
      "│     ├─ DC Correct Electric Field: yes\n",
      "│     └─ Electric Potential: DeltaKicks\n",
      "│        ├─ Number of Kicks: 2\n",
      "│        └─ Maximum Kick Amplitude: 1.2438403206875851e-06\n",
      "└─ DeltaKickSpecification(sine_kick)\n",
      "   ├─ UUID: 35fc600f-ce2c-458b-8d97-2bd4a33464d3\n",
      "   ├─ Time Evolution\n",
      "   │  ├─ Initial Time: -200.0 as\n",
      "   │  └─ Final Time: 200.0 as\n",
      "   ├─ Evolution Algorithm\n",
      "   │  └─ Evolution Gauge: LEN\n",
      "   └─ IDE Parameters\n",
      "      ├─ Initial State: a = 1\n",
      "      ├─ Prefactor: -2.3081736167869146e+30\n",
      "      ├─ LengthGaugeHydrogenKernel\n",
      "      │  └─ Bound State Energy: -13.606 eV | -0.5 hartree\n",
      "      ├─ DC Correct Electric Field: yes\n",
      "      └─ Electric Potential: DeltaKicks\n",
      "         ├─ Number of Kicks: 2\n",
      "         └─ Maximum Kick Amplitude: 1.2438403206875851e-06\n"
     ]
    }
   ],
   "source": [
    "sine_kicks = dk.DeltaKicks([\n",
    "    dk.delta_kick(-100 * u.asec, -.1 * u.atomic_electric_field * u.atomic_time),\n",
    "    dk.delta_kick(1100 * u.asec, .1 * u.atomic_electric_field * u.atomic_time),\n",
    "])\n",
    "\n",
    "sine_kick_sim = dk.DeltaKickSpecification(\n",
    "    'sine_kick',\n",
    "    time_initial = -200 * u.asec,\n",
    "    time_final = 200 *  u.asec,\n",
    "    electric_potential = sine_kicks,\n",
    ").to_sim()\n",
    "\n",
    "sine_kick_sim.run()\n",
    "print(sine_kick_sim.info())"
   ]
  },
  {
   "cell_type": "code",
   "execution_count": 5,
   "metadata": {},
   "outputs": [
    {
     "name": "stdout",
     "output_type": "stream",
     "text": [
      "[1.         0.98029605 0.96077745 0.96077745]\n"
     ]
    }
   ],
   "source": [
    "print(sine_kick_sim.b2)"
   ]
  },
  {
   "cell_type": "code",
   "execution_count": null,
   "metadata": {},
   "outputs": [],
   "source": []
  }
 ],
 "metadata": {
  "kernelspec": {
   "display_name": "Python 3",
   "language": "python",
   "name": "python3"
  },
  "language_info": {
   "codemirror_mode": {
    "name": "ipython",
    "version": 3
   },
   "file_extension": ".py",
   "mimetype": "text/x-python",
   "name": "python",
   "nbconvert_exporter": "python",
   "pygments_lexer": "ipython3",
   "version": "3.6.4"
  }
 },
 "nbformat": 4,
 "nbformat_minor": 2
}
