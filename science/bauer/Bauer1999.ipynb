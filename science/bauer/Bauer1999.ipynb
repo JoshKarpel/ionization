{
 "cells": [
  {
   "cell_type": "markdown",
   "metadata": {},
   "source": [
    "The goal of this notebook is to replicate the work of Bauer1999 (Bauer, D., & Mulser, P. (1999). Exact field ionization rates in the barrier-suppression regime from numerical time-dependent Schrödinger-equation calculations. Physical Review A, 59(1), 569–577. https://doi.org/10.1103/PhysRevA.59.569) and investigate correspondence between their results and our IDE model."
   ]
  },
  {
   "cell_type": "code",
   "execution_count": null,
   "metadata": {
    "collapsed": true
   },
   "outputs": [],
   "source": [
    "import logging\n",
    "\n",
    "import simulacra as si\n",
    "import simulacra.units as u\n",
    "\n",
    "import ionization as ion\n",
    "\n",
    "LOGMAN = si.utils.LogManager('simulacra', 'ionization', stdout_level = logging.INFO)\n",
    "\n",
    "PLOT_KWARGS = dict(\n",
    "    show = True,\n",
    "    save = False,\n",
    ")\n",
    "\n",
    "%matplotlib inline"
   ]
  },
  {
   "cell_type": "markdown",
   "metadata": {},
   "source": [
    "This is the laser pulse used by Bauer1999. It is not centered at $t=0$, but instead at half the number of cycles times the cycle time (i.e., the number of periods and the period). Note that $\\varphi = 0$ is a sine-like pulse because of this time shift. "
   ]
  },
  {
   "cell_type": "code",
   "execution_count": null,
   "metadata": {},
   "outputs": [],
   "source": [
    "class BauerGaussianPulse(ion.potentials.UniformLinearlyPolarizedElectricPotential):\n",
    "    \"\"\"Gaussian pulse as defined in Bauer1999. Phase = 0 is a sine-like pulse.\"\"\"\n",
    "\n",
    "    def __init__(\n",
    "            self,\n",
    "            amplitude = 0.3 * u.atomic_electric_field,\n",
    "            omega = .2 * u.atomic_angular_frequency,\n",
    "            number_of_cycles = 6,\n",
    "            phase = 0,\n",
    "            **kwargs):\n",
    "        super().__init__(**kwargs)\n",
    "\n",
    "        self.amplitude = amplitude\n",
    "        self.omega = omega\n",
    "        self.number_of_cycles = number_of_cycles\n",
    "        self.phase = phase\n",
    "\n",
    "        self.pulse_center = number_of_cycles * pi / self.omega\n",
    "        self.sigma2 = (self.pulse_center ** 2 / (4 * np.log(20)))\n",
    "\n",
    "    @property\n",
    "    def cycle_time(self):\n",
    "        return 2 * self.pulse_center / self.number_of_cycles\n",
    "\n",
    "    def get_electric_field_envelope(self, t):\n",
    "        return np.exp(-((t - self.pulse_center) ** 2) / (4 * self.sigma2))\n",
    "\n",
    "    def get_electric_field_amplitude(self, t):\n",
    "        amp = self.get_electric_field_envelope(t) * np.sin((self.omega * t) + self.phase)\n",
    "\n",
    "        return amp * self.amplitude * super().get_electric_field_amplitude(t)\n"
   ]
  }
 ],
 "metadata": {
  "kernelspec": {
   "display_name": "Python [conda env:sci]",
   "language": "python",
   "name": "conda-env-sci-py"
  },
  "language_info": {
   "codemirror_mode": {
    "name": "ipython",
    "version": 3
   },
   "file_extension": ".py",
   "mimetype": "text/x-python",
   "name": "python",
   "nbconvert_exporter": "python",
   "pygments_lexer": "ipython3",
   "version": "3.6.4"
  }
 },
 "nbformat": 4,
 "nbformat_minor": 2
}
